{
 "cells": [
  {
   "cell_type": "markdown",
   "metadata": {},
   "source": [
    "# NLP Miniproject"
   ]
  },
  {
   "cell_type": "markdown",
   "metadata": {},
   "source": [
    "## Introduction\n",
    "\n",
    "The objective of this project is to gain experience with natural language processing and how to use text data to train a machine learning model to make predictions. For the miniproject, I will be working with product review text from Amazon. The reviews are for only products in the \"Electronics\" category. The objective is to train a model to predict the rating, ranging from 1 to 5 stars.\n",
    "\n",
    "## Scoring\n",
    "\n",
    "The grader uses the [R<sup>2</sup>-score](https://scikit-learn.org/stable/modules/model_evaluation.html#r2-score) for model evaluation. \n",
    "\n",
    "## Downloading and loading the data\n",
    "\n",
    "The data set is available on Amazon S3 and comes as a compressed file where each line is a JSON object. "
   ]
  },
  {
   "cell_type": "code",
   "execution_count": 2,
   "metadata": {},
   "outputs": [],
   "source": [
    "import gzip\n",
    "import simplejson as json\n",
    "\n",
    "with gzip.open(\"data/amazon_electronics_reviews_training.json.gz\", \"r\") as f:                                  \n",
    "    data = [json.loads(line) for line in f]"
   ]
  },
  {
   "cell_type": "code",
   "execution_count": 3,
   "metadata": {},
   "outputs": [],
   "source": [
    "with gzip.open(\"C:/Users\\DELL  LATITUDE E5480\\Downloads\\WQU Notebook\\datacourse\\machine-learning\\miniprojects\\data/amazon_one_and_five_star_reviews.json.gz\", \"r\") as f:\n",
    "    data1 = [json.loads(line) for line in f]"
   ]
  },
  {
   "cell_type": "code",
   "execution_count": 4,
   "metadata": {},
   "outputs": [
    {
     "data": {
      "text/plain": [
       "60000"
      ]
     },
     "execution_count": 4,
     "metadata": {},
     "output_type": "execute_result"
    }
   ],
   "source": [
    "#Has 1000 data points\n",
    "len(data)"
   ]
  },
  {
   "cell_type": "markdown",
   "metadata": {},
   "source": [
    "The `reviewText` key is the predictor while the `ratings` key is the target variable"
   ]
  },
  {
   "cell_type": "code",
   "execution_count": 5,
   "metadata": {},
   "outputs": [],
   "source": [
    "x = [data[i]['reviewText'] for i in range(len(data))]\n",
    "y = [data[i]['overall'] for i in range(len(data))]"
   ]
  },
  {
   "cell_type": "code",
   "execution_count": 6,
   "metadata": {},
   "outputs": [],
   "source": [
    "#Visualizing the data points\n",
    "#x[:10]\n",
    "#y[:10]"
   ]
  },
  {
   "cell_type": "code",
   "execution_count": 7,
   "metadata": {},
   "outputs": [],
   "source": [
    "#Splitting my data into train, test, and validation \n",
    "from sklearn.model_selection import train_test_split\n",
    "x_train, x_test, y_train, y_test = train_test_split(x, y, test_size=0.2, random_state=0)\n",
    "x_train, x_val, y_train, y_val = train_test_split(x_train, y_train, test_size = 0.2, random_state=0)"
   ]
  },
  {
   "cell_type": "code",
   "execution_count": 8,
   "metadata": {},
   "outputs": [
    {
     "name": "stdout",
     "output_type": "stream",
     "text": [
      "The number of data points in train data 38400\n",
      "The number of data points in test data 12000\n",
      "The number of data points in validation data 9600\n"
     ]
    }
   ],
   "source": [
    "#Visualising my split dataset\n",
    "print(\"The number of data points in train data\", len(x_train))\n",
    "print(\"The number of data points in test data\", len(x_test))\n",
    "print(\"The number of data points in validation data\", len(x_val))"
   ]
  },
  {
   "cell_type": "markdown",
   "metadata": {},
   "source": [
    "**Note**, the test set used by the grader is in the same format as that of `data`, a list of dictionaries. Your trained model needs to accept data in the same format. Thus, you should use `Pipeline` when constructing your model so that all necessary transformation needed are encapsulated into a single estimator object."
   ]
  },
  {
   "cell_type": "markdown",
   "metadata": {},
   "source": [
    "## Bag of words model"
   ]
  },
  {
   "cell_type": "code",
   "execution_count": 9,
   "metadata": {},
   "outputs": [],
   "source": [
    "#Importing necessary libraries for pre-processing and feature extraction\n",
    "from spacy.lang.en import STOP_WORDS\n",
    "import spacy\n",
    "from bs4 import BeautifulSoup\n",
    "import string"
   ]
  },
  {
   "cell_type": "code",
   "execution_count": 10,
   "metadata": {},
   "outputs": [],
   "source": [
    "#Does necessary cleaning operations\n",
    "def clean(data):\n",
    "    #Extracting the text(removes html tags and makes text lowercase)\n",
    "    x = [BeautifulSoup(text).get_text().lower().replace(\"\\'\", \"\") for text in data]\n",
    "    #Removing all punctuation\n",
    "    x = [text.translate(str.maketrans('', '', string.punctuation)) for text in x]\n",
    "    #Removing all digits\n",
    "    x = [text.translate(str.maketrans('', '', string.digits)) for text in x]\n",
    "    return x"
   ]
  },
  {
   "cell_type": "code",
   "execution_count": 11,
   "metadata": {},
   "outputs": [
    {
     "name": "stderr",
     "output_type": "stream",
     "text": [
      "C:\\Users\\DELL  LATITUDE E5480\\anaconda3\\lib\\site-packages\\bs4\\__init__.py:435: MarkupResemblesLocatorWarning: The input looks more like a filename than markup. You may want to open this file and pass the filehandle into Beautiful Soup.\n",
      "  warnings.warn(\n"
     ]
    }
   ],
   "source": [
    "#Cleaning the dataset\n",
    "x_train = clean(x_train)\n",
    "x_test = clean(x_test)\n",
    "x_val = clean(x_val)"
   ]
  },
  {
   "cell_type": "code",
   "execution_count": 12,
   "metadata": {},
   "outputs": [
    {
     "name": "stdout",
     "output_type": "stream",
     "text": [
      "{5.0: 60.1171875, 3.0: 8.0078125, 1.0: 6.682291666666666, 2.0: 4.885416666666666, 4.0: 20.307291666666664}\n"
     ]
    },
    {
     "data": {
      "text/plain": [
       "Text(0, 0.5, 'percentage proportion')"
      ]
     },
     "execution_count": 12,
     "metadata": {},
     "output_type": "execute_result"
    },
    {
     "data": {
      "image/png": "[encoded data removed]",
      "text/plain": [
       "<Figure size 640x480 with 1 Axes>"
      ]
     },
     "metadata": {},
     "output_type": "display_data"
    }
   ],
   "source": [
    "#Checking for the class imbalance\n",
    "from collections import Counter\n",
    "import matplotlib.pyplot as plt\n",
    "count = Counter(y_train)\n",
    "sum_ = sum(count.values())\n",
    "count = {k : (v/sum_ * 100) for k, v in count.items()}\n",
    "print(count)\n",
    "plt.bar(count.keys(), count.values())\n",
    "plt.xlabel('class')\n",
    "plt.ylabel('percentage proportion')\n",
    "#The class imbalance is much. How do I overcome this?.. this lead to poor performance in my model\n",
    "#Try oversampling the minority class and undersampling the majority class"
   ]
  },
  {
   "cell_type": "code",
   "execution_count": 1,
   "metadata": {},
   "outputs": [],
   "source": [
    "## Using fastText for feature extraction and training\n",
    "from fasttext import supervised\n",
    "\"\"\"fastText expects and training file (csv), a model name as input\n",
    "arguments.\n",
    "label_prefix refers to the prefix before label string in the dataset.\n",
    "default is __label__. In our dataset, it is __class__.\n",
    "There are several other parameters which can be seen in:\n",
    "https://pypi.org/project/fasttext/\n",
    "\"\"\"\n",
    "model = supervised(x_train, 'temp', label_prefix=\"__class__\")\n",
    "results = model.test(x_test)\n",
    "print(results.nexamples, results.precision, results.recall)"
   ]
  },
  {
   "cell_type": "code",
   "execution_count": 166,
   "metadata": {},
   "outputs": [
    {
     "name": "stderr",
     "output_type": "stream",
     "text": [
      "C:\\Users\\DELL  LATITUDE E5480\\AppData\\Local\\Temp\\ipykernel_15976\\1893891536.py:15: RuntimeWarning: invalid value encountered in true_divide\n",
      "  feats.append(feat_for_this/count_for_this)\n"
     ]
    },
    {
     "name": "stdout",
     "output_type": "stream",
     "text": [
      "38400\n",
      "12000\n",
      "9600\n"
     ]
    }
   ],
   "source": [
    "# Creating a feature vector by averaging all embeddings for all sentences\n",
    "import numpy as np\n",
    "# Creating a feature vector by averaging all embeddings for allsentences\n",
    "def embedding_feats(list_of_lists):\n",
    "    DIMENSION = 300\n",
    "    zero_vector = np.zeros(DIMENSION)\n",
    "    feats = []\n",
    "    for tokens in list_of_lists:\n",
    "        feat_for_this = np.zeros(DIMENSION)\n",
    "        count_for_this = 0\n",
    "        for token in tokens:\n",
    "            if token in w2v_model:\n",
    "                feat_for_this += w2v_model[token]\n",
    "                count_for_this +=1\n",
    "        feats.append(feat_for_this/count_for_this)\n",
    "    feats = np.array(feats)\n",
    "    feats = np.nan_to_num(feats)\n",
    "    return feats\n",
    "train_vectors = embedding_feats(x_train)\n",
    "test_vectors = embedding_feats(x_test)\n",
    "val_vectors = embedding_feats(x_val)\n",
    "print(len(train_vectors))\n",
    "print(len(test_vectors))\n",
    "print(len(val_vectors))"
   ]
  },
  {
   "cell_type": "code",
   "execution_count": 167,
   "metadata": {},
   "outputs": [
    {
     "data": {
      "text/plain": [
       "False"
      ]
     },
     "execution_count": 167,
     "metadata": {},
     "output_type": "execute_result"
    }
   ],
   "source": [
    "np.any(np.isnan(train_vectors))"
   ]
  },
  {
   "cell_type": "code",
   "execution_count": 168,
   "metadata": {},
   "outputs": [
    {
     "name": "stdout",
     "output_type": "stream",
     "text": [
      "(12000, 300)\n",
      "(38400, 300)\n",
      "(9600, 300)\n"
     ]
    }
   ],
   "source": [
    "x_train_dtm = train_vectors\n",
    "x_test_dtm = test_vectors\n",
    "x_val_dtm = val_vectors\n",
    "print(x_test_dtm.shape)\n",
    "print(x_train_dtm.shape)\n",
    "print(x_val_dtm.shape)"
   ]
  },
  {
   "cell_type": "code",
   "execution_count": 172,
   "metadata": {},
   "outputs": [
    {
     "data": {
      "text/plain": [
       "False"
      ]
     },
     "execution_count": 172,
     "metadata": {},
     "output_type": "execute_result"
    }
   ],
   "source": [
    "np.any(np.isnan(x_val_dtm))"
   ]
  },
  {
   "cell_type": "code",
   "execution_count": 179,
   "metadata": {},
   "outputs": [],
   "source": [
    "# from sklearn.naive_bayes import MultinomialNB\n",
    "# nb = MultinomialNB() #instantiate a Multinomial Naive Bayes classifier\n",
    "# nb.fit(x_train_dtm, y_train)#train the mode \n",
    "# y_pred_class = nb.predict(x_test_dtm)#make class predictions for test"
   ]
  },
  {
   "cell_type": "code",
   "execution_count": 66,
   "metadata": {},
   "outputs": [
    {
     "data": {
      "text/plain": [
       "Text(50.722222222222214, 0.5, 'Predicted label')"
      ]
     },
     "execution_count": 66,
     "metadata": {},
     "output_type": "execute_result"
    },
    {
     "data": {
      "image/png": "[encoded data removed]",
      "text/plain": [
       "<Figure size 640x480 with 2 Axes>"
      ]
     },
     "metadata": {},
     "output_type": "display_data"
    }
   ],
   "source": [
    "#Well this performed quite poorly\n",
    "from sklearn.metrics import confusion_matrix\n",
    "import seaborn as sns\n",
    "import matplotlib.pyplot as plt\n",
    "# Create the confusion matrix\n",
    "conf_mat = confusion_matrix(y_test, y_pred_class, normalize=\"true\")\n",
    "# Plot the confusion matrix\n",
    "sns.heatmap(conf_mat.T, annot=True, fmt=\".0%\", cmap=\"cividis\", xticklabels=set(y_train), yticklabels=set(y_train))\n",
    "plt.xlabel(\"True label\")\n",
    "plt.ylabel(\"Predicted label\")"
   ]
  },
  {
   "cell_type": "code",
   "execution_count": 180,
   "metadata": {},
   "outputs": [],
   "source": [
    "# #How am I even getting negative values\n",
    "# from sklearn.metrics import accuracy_score\n",
    "# nb = MultinomialNB() #instantiate a Multinomial Naive Bayes classifier\n",
    "# nb.fit(x_train_dtm, y_train)#train the mode \n",
    "# y_pred_class = nb.predict(x_test_dtm)#make class predictions for test\n",
    "# # Create the confusion matrix\n",
    "# conf_mat = confusion_matrix(y_test, y_pred_class, normalize=\"true\")\n",
    "# # Plot the confusion matrix\n",
    "# sns.heatmap(conf_mat.T, annot=True, fmt=\".0%\", cmap=\"cividis\", xticklabels=set(y_train), yticklabels=set(y_train))\n",
    "# plt.xlabel(\"True label\")\n",
    "# plt.ylabel(\"Predicted label\")\n",
    "# print(accuracy_score(y_test, y_pred_class))"
   ]
  },
  {
   "cell_type": "code",
   "execution_count": 174,
   "metadata": {},
   "outputs": [
    {
     "name": "stdout",
     "output_type": "stream",
     "text": [
      "Accuracy:  0.33475\n"
     ]
    },
    {
     "name": "stderr",
     "output_type": "stream",
     "text": [
      "C:\\Users\\DELL  LATITUDE E5480\\anaconda3\\lib\\site-packages\\sklearn\\linear_model\\_logistic.py:814: ConvergenceWarning: lbfgs failed to converge (status=1):\n",
      "STOP: TOTAL NO. of ITERATIONS REACHED LIMIT.\n",
      "\n",
      "Increase the number of iterations (max_iter) or scale the data as shown in:\n",
      "    https://scikit-learn.org/stable/modules/preprocessing.html\n",
      "Please also refer to the documentation for alternative solver options:\n",
      "    https://scikit-learn.org/stable/modules/linear_model.html#logistic-regression\n",
      "  n_iter_i = _check_optimize_result(\n"
     ]
    }
   ],
   "source": [
    "#This is performing a little bit better\n",
    "from sklearn.linear_model import LogisticRegression\n",
    "logreg = LogisticRegression(class_weight=\"balanced\")\n",
    "logreg.fit(x_train_dtm, y_train)\n",
    "y_pred_class = logreg.predict(x_test_dtm)\n",
    "print(\"Accuracy: \", accuracy_score(y_test, y_pred_class))"
   ]
  },
  {
   "cell_type": "code",
   "execution_count": 175,
   "metadata": {},
   "outputs": [],
   "source": [
    "from sklearn.svm import LinearSVC\n",
    "classifier = LinearSVC(class_weight='balanced') \n",
    "classifier.fit(x_train_dtm, y_train) #fit the model with training data\n",
    "y_pred_class = classifier.predict(x_test_dtm)"
   ]
  },
  {
   "cell_type": "code",
   "execution_count": 178,
   "metadata": {},
   "outputs": [
    {
     "name": "stdout",
     "output_type": "stream",
     "text": [
      "Accuracy:  0.5505833333333333\n",
      "0.5505833333333333\n"
     ]
    },
    {
     "data": {
      "image/png": "[encoded data removed]",
      "text/plain": [
       "<Figure size 640x480 with 2 Axes>"
      ]
     },
     "metadata": {},
     "output_type": "display_data"
    }
   ],
   "source": [
    "from sklearn.metrics import confusion_matrix\n",
    "import seaborn as sns\n",
    "#Svms perform much better\n",
    "#You can try this with much less features (100..prolly use pca to choose your 1000 features)\n",
    "print(\"Accuracy: \", accuracy_score(y_test, y_pred_class))\n",
    "# Create the confusion matrix\n",
    "conf_mat = confusion_matrix(y_test, y_pred_class, normalize=\"true\")\n",
    "# Plot the confusion matrix\n",
    "sns.heatmap(conf_mat.T, annot=True, fmt=\".0%\", cmap=\"cividis\", xticklabels=set(y_train), yticklabels=set(y_train))\n",
    "plt.xlabel(\"True label\")\n",
    "plt.ylabel(\"Predicted label\")\n",
    "print(accuracy_score(y_test, y_pred_class))"
   ]
  },
  {
   "cell_type": "markdown",
   "metadata": {},
   "source": [
    "## Try out the tf-idf vectorizer and apply the exact same process.\n",
    "Prolly duplicate this notebook\n",
    "Clearly, we excluded many other possibilities,\n",
    "such as exploring other text classification algorithms, changing\n",
    "different parameters of various classifiers, coming up with better\n",
    "pre-processing methods"
   ]
  },
  {
   "cell_type": "markdown",
   "metadata": {},
   "source": [
    "## Word Embeddings"
   ]
  },
  {
   "cell_type": "code",
   "execution_count": null,
   "metadata": {},
   "outputs": [],
   "source": [
    "#Try out random forest classifier"
   ]
  },
  {
   "cell_type": "code",
   "execution_count": 183,
   "metadata": {},
   "outputs": [
    {
     "name": "stdout",
     "output_type": "stream",
     "text": [
      "Accuracy:  0.6015833333333334\n"
     ]
    }
   ],
   "source": [
    "#This is performing a little bit better\n",
    "from sklearn.ensemble import RandomForestClassifier\n",
    "logreg = RandomForestClassifier()\n",
    "logreg.fit(x_train_dtm, y_train)\n",
    "y_pred_class = logreg.predict(x_test_dtm)\n",
    "print(\"Accuracy: \", accuracy_score(y_test, y_pred_class))"
   ]
  }
 ],
 "metadata": {
  "kernelspec": {
   "display_name": "Python 3 (ipykernel)",
   "language": "python",
   "name": "python3"
  },
  "language_info": {
   "codemirror_mode": {
    "name": "ipython",
    "version": 3
   },
   "file_extension": ".py",
   "mimetype": "text/x-python",
   "name": "python",
   "nbconvert_exporter": "python",
   "pygments_lexer": "ipython3",
   "version": "3.9.13"
  },
  "nbclean": true
 },
 "nbformat": 4,
 "nbformat_minor": 1
}
